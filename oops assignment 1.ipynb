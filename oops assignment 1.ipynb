{
 "cells": [
  {
   "cell_type": "code",
   "execution_count": 1,
   "id": "a5f4004e-095d-4c22-b55c-9ee038d75f79",
   "metadata": {},
   "outputs": [],
   "source": [
    "# Ques 1: Explain Class and Object with respect to Object-Oriented Programming. Give a suitable example."
   ]
  },
  {
   "cell_type": "code",
   "execution_count": 2,
   "id": "045c3be8-ce53-4ea3-bd0a-2ae4bbb10ab0",
   "metadata": {},
   "outputs": [],
   "source": [
    "# An object is simply a collection of data (variables) and methods (functions). Similarly, a class is a blueprint for that object.\n"
   ]
  },
  {
   "cell_type": "code",
   "execution_count": 3,
   "id": "68225eea-c273-4890-8295-010ab964b47c",
   "metadata": {},
   "outputs": [],
   "source": [
    "class ClassName:\n",
    "    pass\n",
    "    # class definition "
   ]
  },
  {
   "cell_type": "code",
   "execution_count": 4,
   "id": "e8627894-503c-4f20-bc7a-3bb090c099a8",
   "metadata": {},
   "outputs": [
    {
     "name": "stdout",
     "output_type": "stream",
     "text": [
      "Name: Mountain Bike, Gears: 11 \n"
     ]
    }
   ],
   "source": [
    "# define a class\n",
    "class Bike:\n",
    "    name = \"\"\n",
    "    gear = 0\n",
    "\n",
    "# create object of class\n",
    "bike1 = Bike()\n",
    "\n",
    "# access attributes and assign new values\n",
    "bike1.gear = 11\n",
    "bike1.name = \"Mountain Bike\"\n",
    "\n",
    "print(f\"Name: {bike1.name}, Gears: {bike1.gear} \")"
   ]
  },
  {
   "cell_type": "code",
   "execution_count": 5,
   "id": "42a49575-ac1b-4bd3-92f1-2bf4cd92bb3f",
   "metadata": {},
   "outputs": [],
   "source": [
    "# Ques 2. Name the four pillars of OOPs."
   ]
  },
  {
   "cell_type": "code",
   "execution_count": 6,
   "id": "956234a1-6440-4cb7-a2cf-86aab25239f7",
   "metadata": {},
   "outputs": [],
   "source": [
    "#The Four Pillars of Object Oriented Programming\n",
    "#Abstraction.\n",
    "#Encapsulation.\n",
    "#Inheritance.\n",
    "#Polymorphism"
   ]
  },
  {
   "cell_type": "code",
   "execution_count": 7,
   "id": "2bc680c7-e765-42ee-a28e-3198bfe23b0b",
   "metadata": {},
   "outputs": [],
   "source": [
    "# Ques 3. Explain why the __init__() function is used. Give a suitable example."
   ]
  },
  {
   "cell_type": "code",
   "execution_count": 8,
   "id": "fbdc54e8-17ab-4e83-a0ca-4d39384e588f",
   "metadata": {},
   "outputs": [
    {
     "name": "stdout",
     "output_type": "stream",
     "text": [
      "I am earth\n",
      "I am the 3 planet in the solar system\n"
     ]
    }
   ],
   "source": [
    "class planet:  \n",
    "    def __init__ (self, name, number):  \n",
    "        self. name = name  \n",
    "        self. number = number  \n",
    "    def function (self):  \n",
    "        print (\"I am\", self. name)  \n",
    "        print (\"I am the\", self. number, \"planet in the solar system\")  \n",
    "          \n",
    "earth = planet ('earth', 3)  \n",
    "earth. function ()  "
   ]
  },
  {
   "cell_type": "code",
   "execution_count": 9,
   "id": "9cefdbdd-a303-49e2-be8e-5e4c9f497517",
   "metadata": {},
   "outputs": [],
   "source": [
    "# It is a constructor, allowing a class to hold objects with different values."
   ]
  },
  {
   "cell_type": "code",
   "execution_count": 10,
   "id": "a7ebf17f-2516-4c97-a3f6-1372131021ae",
   "metadata": {},
   "outputs": [],
   "source": [
    "# Ques 4. Why self is used in OOPs?"
   ]
  },
  {
   "cell_type": "code",
   "execution_count": 11,
   "id": "65ceb31c-6d5e-473a-b1a0-fee8726a3511",
   "metadata": {},
   "outputs": [],
   "source": [
    "# The self variable is used to represent the instance of the class which is often used in object-oriented programming. It works as a reference to the object. Python uses the self parameter to refer to instance attributes and methods of the class."
   ]
  },
  {
   "cell_type": "code",
   "execution_count": 12,
   "id": "9bcf3a7b-1dc8-4ca7-94e9-b8d48f8c5c4e",
   "metadata": {},
   "outputs": [],
   "source": [
    "# Ques 5. What is inheritance? Give an example for each type of inheritance."
   ]
  },
  {
   "cell_type": "code",
   "execution_count": 13,
   "id": "741fcb97-eeea-4001-81f5-48c0d4c9891b",
   "metadata": {},
   "outputs": [],
   "source": [
    "#  Inheritance is a mechanism in which one class acquires the property of another class. \n"
   ]
  },
  {
   "cell_type": "code",
   "execution_count": 14,
   "id": "acea33cd-14a9-411c-ac4e-ed39eed6e9b5",
   "metadata": {},
   "outputs": [
    {
     "name": "stdout",
     "output_type": "stream",
     "text": [
      "This function is in parent class.\n",
      "This function is in child class.\n"
     ]
    }
   ],
   "source": [
    "# Single Inheritance example\n",
    "\n",
    "class Parent:\n",
    "    def func1(self):\n",
    "        print(\"This function is in parent class.\")\n",
    "class Child(Parent):\n",
    "            def func2(self):\n",
    "                print(\"This function is in child class.\")\n",
    " \n",
    " \n",
    "# Driver's code\n",
    "object = Child()\n",
    "object.func1()\n",
    "object.func2()"
   ]
  },
  {
   "cell_type": "code",
   "execution_count": 2,
   "id": "667e2a72-4160-49d0-8333-e8da66b1bd87",
   "metadata": {},
   "outputs": [
    {
     "name": "stdout",
     "output_type": "stream",
     "text": [
      "Father : RAM\n",
      "Mother : SITA\n"
     ]
    }
   ],
   "source": [
    "\n",
    "# multiple inheritance\n",
    " \n",
    "# Base class1\n",
    "class Mother:\n",
    "    mothername = \"\"\n",
    " \n",
    "    def mother(self):\n",
    "        print(self.mothername)\n",
    "\n",
    "class Father:\n",
    "    fathername = \"\"\n",
    " \n",
    "    def father(self):\n",
    "        print(self.fathername)\n",
    "class Son(Mother, Father):\n",
    "    def parents(self):\n",
    "        print(\"Father :\", self.fathername)\n",
    "        print(\"Mother :\", self.mothername)\n",
    " \n",
    " \n",
    "# Driver's code\n",
    "s1 = Son()\n",
    "s1.fathername = \"RAM\"\n",
    "s1.mothername = \"SITA\"\n",
    "s1.parents()"
   ]
  },
  {
   "cell_type": "code",
   "execution_count": 3,
   "id": "33091c79-2a6f-47d5-912c-dd06e0adf02e",
   "metadata": {},
   "outputs": [
    {
     "name": "stdout",
     "output_type": "stream",
     "text": [
      "Lal mani\n",
      "Grandfather name : Lal mani\n",
      "Father name : Rampal\n",
      "Son name : Prince\n"
     ]
    }
   ],
   "source": [
    "# multilevel inheritance\n",
    " \n",
    "# Base class\n",
    " \n",
    " \n",
    "class Grandfather:\n",
    " \n",
    "    def __init__(self, grandfathername):\n",
    "        self.grandfathername = grandfathername\n",
    " \n",
    "# Intermediate class\n",
    " \n",
    "class Father(Grandfather):\n",
    "    def __init__(self, fathername, grandfathername):\n",
    "        self.fathername = fathername\n",
    " \n",
    "        # invoking constructor of Grandfather class\n",
    "        Grandfather.__init__(self, grandfathername)\n",
    " \n",
    " \n",
    "class Son(Father):\n",
    "    def __init__(self, sonname, fathername, grandfathername):\n",
    "        self.sonname = sonname\n",
    " \n",
    "        # invoking constructor of Father class\n",
    "        Father.__init__(self, fathername, grandfathername)\n",
    " \n",
    "    def print_name(self):\n",
    "        print('Grandfather name :', self.grandfathername)\n",
    "        print(\"Father name :\", self.fathername)\n",
    "        print(\"Son name :\", self.sonname)\n",
    " \n",
    " \n",
    "#  Driver code\n",
    "s1 = Son('Prince', 'Rampal', 'Lal mani')\n",
    "print(s1.grandfathername)\n",
    "s1.print_name()"
   ]
  },
  {
   "cell_type": "code",
   "execution_count": 5,
   "id": "56c54bc8-072d-45fa-83fb-ecba961c69c8",
   "metadata": {},
   "outputs": [
    {
     "name": "stdout",
     "output_type": "stream",
     "text": [
      "This function is in parent class.\n",
      "This function is in child 1.\n",
      "This function is in parent class.\n",
      "This function is in child 2.\n"
     ]
    }
   ],
   "source": [
    "\n",
    " \n",
    " \n",
    "# Base class\n",
    "class Parent:\n",
    "    def func1(self):\n",
    "        print(\"This function is in parent class.\")\n",
    " \n",
    "\n",
    " \n",
    "class Child1(Parent):\n",
    "    def func2(self):\n",
    "        print(\"This function is in child 1.\")\n",
    " \n",
    " \n",
    "class Child2(Parent):\n",
    "    def func3(self):\n",
    "        print(\"This function is in child 2.\")\n",
    " \n",
    " \n",
    "# Driver's code\n",
    "object1 = Child1()\n",
    "object2 = Child2()\n",
    "object1.func1()\n",
    "object1.func2()\n",
    "object2.func1()\n",
    "object2.func3()"
   ]
  },
  {
   "cell_type": "code",
   "execution_count": null,
   "id": "6415f0d8-bf74-4d32-9f9c-0d1f35231909",
   "metadata": {},
   "outputs": [],
   "source": []
  }
 ],
 "metadata": {
  "kernelspec": {
   "display_name": "Python 3 (ipykernel)",
   "language": "python",
   "name": "python3"
  },
  "language_info": {
   "codemirror_mode": {
    "name": "ipython",
    "version": 3
   },
   "file_extension": ".py",
   "mimetype": "text/x-python",
   "name": "python",
   "nbconvert_exporter": "python",
   "pygments_lexer": "ipython3",
   "version": "3.10.8"
  }
 },
 "nbformat": 4,
 "nbformat_minor": 5
}
